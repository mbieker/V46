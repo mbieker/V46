{
 "cells": [
  {
   "cell_type": "code",
   "execution_count": 56,
   "metadata": {
    "collapsed": true
   },
   "outputs": [],
   "source": [
    "import numpy as np\n",
    "import matplotlib.pyplot as plt\n",
    "import pandas as pd\n",
    "import seaborn as sbn\n",
    "from uncertainties import ufloat"
   ]
  },
  {
   "cell_type": "code",
   "execution_count": 3,
   "metadata": {
    "collapsed": false
   },
   "outputs": [],
   "source": [
    "sbn.set_style(\"white\")\n",
    "%matplotlib inline"
   ]
  },
  {
   "cell_type": "code",
   "execution_count": 4,
   "metadata": {
    "collapsed": false
   },
   "outputs": [],
   "source": [
    "#Import Data\n",
    "b_field = pd.read_csv(\"b-feld.csv\")"
   ]
  },
  {
   "cell_type": "code",
   "execution_count": 5,
   "metadata": {
    "collapsed": false
   },
   "outputs": [
    {
     "data": {
      "image/png": "[encoded data removed]",
      "text/plain": [
       "<matplotlib.figure.Figure at 0x7f4456941390>"
      ]
     },
     "metadata": {},
     "output_type": "display_data"
    }
   ],
   "source": [
    "b_field.plot(x=0,y=1,kind='scatter')\n",
    "plt.xlabel(\"x in m\")\n",
    "plt.ylabel(\"B in mT\",rotation=0)\n",
    "plt.savefig(\"B_field_plot.pdf\")"
   ]
  },
  {
   "cell_type": "code",
   "execution_count": 6,
   "metadata": {
    "collapsed": false
   },
   "outputs": [
    {
     "data": {
      "text/plain": [
       "x    110\n",
       "B    435\n",
       "dtype: int64"
      ]
     },
     "execution_count": 6,
     "metadata": {},
     "output_type": "execute_result"
    }
   ],
   "source": [
    "#maximale Feldstärke bestimmen\n",
    "b_field.max(axis=0)"
   ]
  },
  {
   "cell_type": "code",
   "execution_count": 50,
   "metadata": {
    "collapsed": true
   },
   "outputs": [],
   "source": [
    "data = pd.read_csv(\"data.csv\")\n",
    "data['lambda'] *= 1e-3 # Auf mu umrechnen"
   ]
  },
  {
   "cell_type": "code",
   "execution_count": 51,
   "metadata": {
    "collapsed": false
   },
   "outputs": [
    {
     "name": "stdout",
     "output_type": "stream",
     "text": [
      "[0    0.103847\n",
      "1    0.081158\n",
      "2    0.077522\n",
      "3    0.090466\n",
      "4    0.096866\n",
      "5    0.111992\n",
      "6    0.124064\n",
      "7    0.138463\n",
      "8    0.127991\n",
      "dtype: float64, 0    0.087412\n",
      "1    0.061377\n",
      "2    0.060796\n",
      "3    0.056287\n",
      "4    0.056869\n",
      "5    0.062541\n",
      "6    0.069377\n",
      "7    0.076794\n",
      "8    0.069522\n",
      "dtype: float64, 0    0.219184\n",
      "1    0.147335\n",
      "2    0.114901\n",
      "3    0.085230\n",
      "4    0.063995\n",
      "5    0.059050\n",
      "6    0.043779\n",
      "7    0.035779\n",
      "8    0.045960\n",
      "dtype: float64]\n"
     ]
    }
   ],
   "source": [
    "delta=[]\n",
    "for i in range(1,4):\n",
    "    alpha_p = data[\"alpha%i+_deg\"%i] + data[\"alpha%i+_min\" % i]/60\n",
    "    alpha_m = data[\"alpha%i-_deg\"%i] + data[\"alpha%i-_min\" % i]/60\n",
    "    alpha_m[alpha_p > alpha_m] += 360\n",
    "    \n",
    "    delta.append((alpha_m-alpha_p)*np.pi/360)\n",
    "print(delta)\n",
    "    \n"
   ]
  },
  {
   "cell_type": "code",
   "execution_count": 52,
   "metadata": {
    "collapsed": false
   },
   "outputs": [],
   "source": [
    "theta = [delta[0]/1.296-delta[2]/5.11, delta[1]/1.36-delta[2]/5.11]"
   ]
  },
  {
   "cell_type": "code",
   "execution_count": null,
   "metadata": {
    "collapsed": true
   },
   "outputs": [],
   "source": [
    "#Konstanten festlegen\n",
    "N = []\n",
    "B = b_field.max(axis=0)['B']\n",
    "e = 1.602e-19\n",
    "c = 3e8\n",
    "n = \n"
   ]
  },
  {
   "cell_type": "code",
   "execution_count": 77,
   "metadata": {
    "collapsed": false
   },
   "outputs": [
    {
     "name": "stdout",
     "output_type": "stream",
     "text": [
      "regressionsergebnisse:\n",
      "0.0116+/-0.0013 0.019+/-0.006\n"
     ]
    },
    {
     "ename": "NameError",
     "evalue": "name 'e' is not defined",
     "output_type": "error",
     "traceback": [
      "\u001b[1;31m---------------------------------------------------------------------------\u001b[0m",
      "\u001b[1;31mNameError\u001b[0m                                 Traceback (most recent call last)",
      "\u001b[1;32m<ipython-input-77-d12969e4af70>\u001b[0m in \u001b[0;36m<module>\u001b[1;34m()\u001b[0m\n\u001b[0;32m     14\u001b[0m     \u001b[0mprint\u001b[0m\u001b[1;33m(\u001b[0m\u001b[0ma\u001b[0m\u001b[1;33m,\u001b[0m\u001b[0mb\u001b[0m\u001b[1;33m)\u001b[0m\u001b[1;33m\u001b[0m\u001b[0m\n\u001b[0;32m     15\u001b[0m \u001b[1;33m\u001b[0m\u001b[0m\n\u001b[1;32m---> 16\u001b[1;33m     \u001b[0mm\u001b[0m \u001b[1;33m=\u001b[0m \u001b[1;33m(\u001b[0m\u001b[0me\u001b[0m\u001b[1;33m**\u001b[0m\u001b[1;36m3\u001b[0m\u001b[1;33m*\u001b[0m\u001b[0mB\u001b[0m\u001b[1;33m*\u001b[0m\u001b[0mN\u001b[0m\u001b[1;33m/\u001b[0m\u001b[1;33m(\u001b[0m\u001b[1;36m8\u001b[0m\u001b[1;33m*\u001b[0m\u001b[0mnp\u001b[0m\u001b[1;33m.\u001b[0m\u001b[0mpi\u001b[0m\u001b[1;33m**\u001b[0m\u001b[1;36m2\u001b[0m\u001b[1;33m*\u001b[0m\u001b[0mc\u001b[0m\u001b[1;33m**\u001b[0m\u001b[1;36m3\u001b[0m\u001b[1;33m*\u001b[0m\u001b[0mn\u001b[0m\u001b[1;33m*\u001b[0m\u001b[0ma\u001b[0m\u001b[1;33m**\u001b[0m\u001b[1;36m2\u001b[0m\u001b[1;33m)\u001b[0m\u001b[1;33m)\u001b[0m\u001b[1;33m**\u001b[0m\u001b[1;36m0.5\u001b[0m\u001b[1;33m\u001b[0m\u001b[0m\n\u001b[0m\u001b[0;32m     17\u001b[0m \u001b[1;33m\u001b[0m\u001b[0m\n\u001b[0;32m     18\u001b[0m     \u001b[0mplt\u001b[0m\u001b[1;33m.\u001b[0m\u001b[0mxlim\u001b[0m\u001b[1;33m(\u001b[0m\u001b[1;36m0\u001b[0m\u001b[1;33m,\u001b[0m\u001b[1;36m8\u001b[0m\u001b[1;33m)\u001b[0m\u001b[1;33m\u001b[0m\u001b[0m\n",
      "\u001b[1;31mNameError\u001b[0m: name 'e' is not defined"
     ]
    },
    {
     "data": {
      "image/png": "[encoded data removed]",
      "text/plain": [
       "<matplotlib.figure.Figure at 0x7f44551d9d30>"
      ]
     },
     "metadata": {},
     "output_type": "display_data"
    }
   ],
   "source": [
    "for i in range(2):\n",
    "    plt.close()\n",
    "    sbn.despine()\n",
    "    (a,b), cov = np.polyfit(data['lambda']**2,theta[i],1,cov=True)\n",
    "    x = np.linspace(0,8)\n",
    "    plt.plot(x,a*x+b)\n",
    "    plt.plot(data['lambda']**2, theta[i], 'o')\n",
    "    plt.ylabel(r\"$\\frac{\\Theta}{L}$ in cm$^{-1}$\",rotation=0,horizontalalignment=\"right\",size=14)\n",
    "    plt.xlabel(r\"$\\lambda^2$ in $\\mu m^2$\")\n",
    "    plt.savefig(\"plot_%i.pdf\"%i)\n",
    "    a = ufloat(a, cov[0][0]**.5)\n",
    "    b = ufloat(b, cov[1][1]**.5)\n",
    "    print(\"regressionsergebnisse:\")\n",
    "    print(a,b)\n",
    "    \n",
    "    m = (e**3*B*N/(8*np.pi**2*c**3*n*a**2))**0.5\n",
    "\n",
    "    plt.xlim(0,8)"
   ]
  },
  {
   "cell_type": "code",
   "execution_count": null,
   "metadata": {
    "collapsed": true
   },
   "outputs": [],
   "source": [
    "    a,b = np.polyfit"
   ]
  },
  {
   "cell_type": "code",
   "execution_count": 103,
   "metadata": {
    "collapsed": false
   },
   "outputs": [],
   "source": [
    "plt.ylabel?"
   ]
  },
  {
   "cell_type": "code",
   "execution_count": 65,
   "metadata": {
    "collapsed": false
   },
   "outputs": [
    {
     "data": {
      "text/plain": [
       "0    6\n",
       "1    7\n",
       "2    9\n",
       "3    5\n",
       "4    7\n",
       "dtype: int64"
      ]
     },
     "execution_count": 65,
     "metadata": {},
     "output_type": "execute_result"
    }
   ],
   "source": [
    "test"
   ]
  },
  {
   "cell_type": "code",
   "execution_count": null,
   "metadata": {
    "collapsed": true
   },
   "outputs": [],
   "source": []
  }
 ],
 "metadata": {
  "kernelspec": {
   "display_name": "Python 3",
   "language": "python",
   "name": "python3"
  },
  "language_info": {
   "codemirror_mode": {
    "name": "ipython",
    "version": 3
   },
   "file_extension": ".py",
   "mimetype": "text/x-python",
   "name": "python",
   "nbconvert_exporter": "python",
   "pygments_lexer": "ipython3",
   "version": "3.4.3"
  }
 },
 "nbformat": 4,
 "nbformat_minor": 0
}
